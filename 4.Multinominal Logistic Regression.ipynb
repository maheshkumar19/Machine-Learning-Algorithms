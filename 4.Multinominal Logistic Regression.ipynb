{
 "cells": [
  {
   "cell_type": "markdown",
   "metadata": {},
   "source": [
    "Importing libraries\n"
   ]
  },
  {
   "cell_type": "code",
   "execution_count": 1,
   "metadata": {},
   "outputs": [],
   "source": [
    "import numpy as np\n",
    "import pandas as pd\n",
    "import matplotlib.pyplot as plt"
   ]
  },
  {
   "cell_type": "markdown",
   "metadata": {},
   "source": [
    "Loading the dataset"
   ]
  },
  {
   "cell_type": "code",
   "execution_count": 2,
   "metadata": {},
   "outputs": [
    {
     "data": {
      "text/html": [
       "<div>\n",
       "<style scoped>\n",
       "    .dataframe tbody tr th:only-of-type {\n",
       "        vertical-align: middle;\n",
       "    }\n",
       "\n",
       "    .dataframe tbody tr th {\n",
       "        vertical-align: top;\n",
       "    }\n",
       "\n",
       "    .dataframe thead th {\n",
       "        text-align: right;\n",
       "    }\n",
       "</style>\n",
       "<table border=\"1\" class=\"dataframe\">\n",
       "  <thead>\n",
       "    <tr style=\"text-align: right;\">\n",
       "      <th></th>\n",
       "      <th>Class</th>\n",
       "      <th>Alcohol</th>\n",
       "      <th>Malic acid</th>\n",
       "      <th>Ash</th>\n",
       "      <th>Alcalinity of ash</th>\n",
       "      <th>Magnesium</th>\n",
       "      <th>Total phenols</th>\n",
       "      <th>Flavanoids</th>\n",
       "      <th>Nonflavanoid phenols</th>\n",
       "      <th>Proanthocyanins</th>\n",
       "      <th>Color intensity</th>\n",
       "      <th>Hue</th>\n",
       "      <th>OD280/OD315</th>\n",
       "      <th>Proline</th>\n",
       "    </tr>\n",
       "  </thead>\n",
       "  <tbody>\n",
       "    <tr>\n",
       "      <th>0</th>\n",
       "      <td>0</td>\n",
       "      <td>14.23</td>\n",
       "      <td>1.71</td>\n",
       "      <td>2.43</td>\n",
       "      <td>15.6</td>\n",
       "      <td>127</td>\n",
       "      <td>2.80</td>\n",
       "      <td>3.06</td>\n",
       "      <td>0.28</td>\n",
       "      <td>2.29</td>\n",
       "      <td>5.64</td>\n",
       "      <td>1.04</td>\n",
       "      <td>3.92</td>\n",
       "      <td>1065</td>\n",
       "    </tr>\n",
       "    <tr>\n",
       "      <th>1</th>\n",
       "      <td>0</td>\n",
       "      <td>13.20</td>\n",
       "      <td>1.78</td>\n",
       "      <td>2.14</td>\n",
       "      <td>11.2</td>\n",
       "      <td>100</td>\n",
       "      <td>2.65</td>\n",
       "      <td>2.76</td>\n",
       "      <td>0.26</td>\n",
       "      <td>1.28</td>\n",
       "      <td>4.38</td>\n",
       "      <td>1.05</td>\n",
       "      <td>3.40</td>\n",
       "      <td>1050</td>\n",
       "    </tr>\n",
       "    <tr>\n",
       "      <th>2</th>\n",
       "      <td>0</td>\n",
       "      <td>13.16</td>\n",
       "      <td>2.36</td>\n",
       "      <td>2.67</td>\n",
       "      <td>18.6</td>\n",
       "      <td>101</td>\n",
       "      <td>2.80</td>\n",
       "      <td>3.24</td>\n",
       "      <td>0.30</td>\n",
       "      <td>2.81</td>\n",
       "      <td>5.68</td>\n",
       "      <td>1.03</td>\n",
       "      <td>3.17</td>\n",
       "      <td>1185</td>\n",
       "    </tr>\n",
       "    <tr>\n",
       "      <th>3</th>\n",
       "      <td>0</td>\n",
       "      <td>14.37</td>\n",
       "      <td>1.95</td>\n",
       "      <td>2.50</td>\n",
       "      <td>16.8</td>\n",
       "      <td>113</td>\n",
       "      <td>3.85</td>\n",
       "      <td>3.49</td>\n",
       "      <td>0.24</td>\n",
       "      <td>2.18</td>\n",
       "      <td>7.80</td>\n",
       "      <td>0.86</td>\n",
       "      <td>3.45</td>\n",
       "      <td>1480</td>\n",
       "    </tr>\n",
       "    <tr>\n",
       "      <th>4</th>\n",
       "      <td>0</td>\n",
       "      <td>13.24</td>\n",
       "      <td>2.59</td>\n",
       "      <td>2.87</td>\n",
       "      <td>21.0</td>\n",
       "      <td>118</td>\n",
       "      <td>2.80</td>\n",
       "      <td>2.69</td>\n",
       "      <td>0.39</td>\n",
       "      <td>1.82</td>\n",
       "      <td>4.32</td>\n",
       "      <td>1.04</td>\n",
       "      <td>2.93</td>\n",
       "      <td>735</td>\n",
       "    </tr>\n",
       "  </tbody>\n",
       "</table>\n",
       "</div>"
      ],
      "text/plain": [
       "   Class  Alcohol  Malic acid   Ash  Alcalinity of ash  Magnesium  \\\n",
       "0      0    14.23        1.71  2.43               15.6        127   \n",
       "1      0    13.20        1.78  2.14               11.2        100   \n",
       "2      0    13.16        2.36  2.67               18.6        101   \n",
       "3      0    14.37        1.95  2.50               16.8        113   \n",
       "4      0    13.24        2.59  2.87               21.0        118   \n",
       "\n",
       "   Total phenols  Flavanoids  Nonflavanoid phenols  Proanthocyanins  \\\n",
       "0           2.80        3.06                  0.28             2.29   \n",
       "1           2.65        2.76                  0.26             1.28   \n",
       "2           2.80        3.24                  0.30             2.81   \n",
       "3           3.85        3.49                  0.24             2.18   \n",
       "4           2.80        2.69                  0.39             1.82   \n",
       "\n",
       "   Color intensity   Hue  OD280/OD315  Proline  \n",
       "0             5.64  1.04         3.92     1065  \n",
       "1             4.38  1.05         3.40     1050  \n",
       "2             5.68  1.03         3.17     1185  \n",
       "3             7.80  0.86         3.45     1480  \n",
       "4             4.32  1.04         2.93      735  "
      ]
     },
     "execution_count": 2,
     "metadata": {},
     "output_type": "execute_result"
    }
   ],
   "source": [
    "wd=pd.read_csv('Datasets/Wine_Data.csv')\n",
    "wd.head()"
   ]
  },
  {
   "cell_type": "markdown",
   "metadata": {},
   "source": [
    "Performing EDA"
   ]
  },
  {
   "cell_type": "code",
   "execution_count": 3,
   "metadata": {},
   "outputs": [
    {
     "data": {
      "text/plain": [
       "(178, 14)"
      ]
     },
     "execution_count": 3,
     "metadata": {},
     "output_type": "execute_result"
    }
   ],
   "source": [
    "wd.shape"
   ]
  },
  {
   "cell_type": "code",
   "execution_count": 4,
   "metadata": {},
   "outputs": [
    {
     "data": {
      "text/plain": [
       "Class                   0\n",
       "Alcohol                 0\n",
       "Malic acid              0\n",
       "Ash                     0\n",
       "Alcalinity of ash       0\n",
       "Magnesium               0\n",
       "Total phenols           0\n",
       "Flavanoids              0\n",
       "Nonflavanoid phenols    0\n",
       "Proanthocyanins         0\n",
       "Color intensity         0\n",
       "Hue                     0\n",
       "OD280/OD315             0\n",
       "Proline                 0\n",
       "dtype: int64"
      ]
     },
     "execution_count": 4,
     "metadata": {},
     "output_type": "execute_result"
    }
   ],
   "source": [
    "### there in missing values\n",
    "wd.isnull().sum()"
   ]
  },
  {
   "cell_type": "code",
   "execution_count": 5,
   "metadata": {},
   "outputs": [
    {
     "data": {
      "text/plain": [
       "Class                     int64\n",
       "Alcohol                 float64\n",
       "Malic acid              float64\n",
       "Ash                     float64\n",
       "Alcalinity of ash       float64\n",
       "Magnesium                 int64\n",
       "Total phenols           float64\n",
       "Flavanoids              float64\n",
       "Nonflavanoid phenols    float64\n",
       "Proanthocyanins         float64\n",
       "Color intensity         float64\n",
       "Hue                     float64\n",
       "OD280/OD315             float64\n",
       "Proline                   int64\n",
       "dtype: object"
      ]
     },
     "execution_count": 5,
     "metadata": {},
     "output_type": "execute_result"
    }
   ],
   "source": [
    "#there is categorical variables here\n",
    "wd.dtypes"
   ]
  },
  {
   "cell_type": "code",
   "execution_count": 6,
   "metadata": {},
   "outputs": [
    {
     "data": {
      "text/plain": [
       "array([0, 1, 2], dtype=int64)"
      ]
     },
     "execution_count": 6,
     "metadata": {},
     "output_type": "execute_result"
    }
   ],
   "source": [
    "#multi class classification problem\n",
    "wd['Class'].unique()"
   ]
  },
  {
   "cell_type": "code",
   "execution_count": 7,
   "metadata": {},
   "outputs": [
    {
     "data": {
      "text/plain": [
       "1    71\n",
       "0    59\n",
       "2    48\n",
       "Name: Class, dtype: int64"
      ]
     },
     "execution_count": 7,
     "metadata": {},
     "output_type": "execute_result"
    }
   ],
   "source": [
    "#checking the each value count\n",
    "wd['Class'].value_counts()"
   ]
  },
  {
   "cell_type": "code",
   "execution_count": 8,
   "metadata": {},
   "outputs": [
    {
     "data": {
      "image/png": "[encoded data removed]",
      "text/plain": [
       "<Figure size 1440x1440 with 13 Axes>"
      ]
     },
     "metadata": {
      "needs_background": "light"
     },
     "output_type": "display_data"
    }
   ],
   "source": [
    "# detecting outliers\n",
    "def detect_outliers():\n",
    "    count=1\n",
    "    plt.figure(figsize=(20,20))\n",
    "    for col in wd.columns[1:]:\n",
    "        plt.subplot(6,3,count)\n",
    "        plt.boxplot(wd[col])\n",
    "        plt.title(col)\n",
    "        count +=1\n",
    "    plt.show()\n",
    "detect_outliers()\n",
    "        \n",
    "    "
   ]
  },
  {
   "cell_type": "code",
   "execution_count": 9,
   "metadata": {},
   "outputs": [
    {
     "data": {
      "text/plain": [
       "(178, 14)"
      ]
     },
     "execution_count": 9,
     "metadata": {},
     "output_type": "execute_result"
    }
   ],
   "source": [
    "wd.shape"
   ]
  },
  {
   "cell_type": "code",
   "execution_count": 10,
   "metadata": {},
   "outputs": [],
   "source": [
    "#removing outliers\n",
    "def remove_outliers(wd_in,col_name):\n",
    "    q1=wd_in[col_name].quantile(0.25)\n",
    "    q3=wd_in[col_name].quantile(0.75)\n",
    "    iqr=q3-q1\n",
    "    fence_low=q1-1.5*iqr\n",
    "    fence_high=q3+1.5*iqr\n",
    "    wd_out=wd_in.loc[(wd_in[col_name]>fence_low)&(wd_in[col_name]<fence_high)]\n",
    "    return wd_out"
   ]
  },
  {
   "cell_type": "code",
   "execution_count": 11,
   "metadata": {},
   "outputs": [
    {
     "data": {
      "text/plain": [
       "Index(['Class', 'Alcohol', 'Malic acid', 'Ash', 'Alcalinity of ash',\n",
       "       'Magnesium', 'Total phenols', 'Flavanoids', 'Nonflavanoid phenols',\n",
       "       'Proanthocyanins', 'Color intensity', 'Hue', 'OD280/OD315', 'Proline'],\n",
       "      dtype='object')"
      ]
     },
     "execution_count": 11,
     "metadata": {},
     "output_type": "execute_result"
    }
   ],
   "source": [
    "wd.columns"
   ]
  },
  {
   "cell_type": "code",
   "execution_count": 12,
   "metadata": {},
   "outputs": [],
   "source": [
    "for col in wd.columns[1:]:\n",
    "    wd=remove_outliers(wd,col)"
   ]
  },
  {
   "cell_type": "code",
   "execution_count": 13,
   "metadata": {},
   "outputs": [
    {
     "data": {
      "text/plain": [
       "(161, 14)"
      ]
     },
     "execution_count": 13,
     "metadata": {},
     "output_type": "execute_result"
    }
   ],
   "source": [
    "#After removing outliers\n",
    "wd.shape"
   ]
  },
  {
   "cell_type": "code",
   "execution_count": 14,
   "metadata": {},
   "outputs": [
    {
     "data": {
      "text/html": [
       "<div>\n",
       "<style scoped>\n",
       "    .dataframe tbody tr th:only-of-type {\n",
       "        vertical-align: middle;\n",
       "    }\n",
       "\n",
       "    .dataframe tbody tr th {\n",
       "        vertical-align: top;\n",
       "    }\n",
       "\n",
       "    .dataframe thead th {\n",
       "        text-align: right;\n",
       "    }\n",
       "</style>\n",
       "<table border=\"1\" class=\"dataframe\">\n",
       "  <thead>\n",
       "    <tr style=\"text-align: right;\">\n",
       "      <th></th>\n",
       "      <th>Class</th>\n",
       "      <th>Alcohol</th>\n",
       "      <th>Malic acid</th>\n",
       "      <th>Ash</th>\n",
       "      <th>Alcalinity of ash</th>\n",
       "      <th>Magnesium</th>\n",
       "      <th>Total phenols</th>\n",
       "      <th>Flavanoids</th>\n",
       "      <th>Nonflavanoid phenols</th>\n",
       "      <th>Proanthocyanins</th>\n",
       "      <th>Color intensity</th>\n",
       "      <th>Hue</th>\n",
       "      <th>OD280/OD315</th>\n",
       "      <th>Proline</th>\n",
       "    </tr>\n",
       "  </thead>\n",
       "  <tbody>\n",
       "    <tr>\n",
       "      <th>Class</th>\n",
       "      <td>1.000000</td>\n",
       "      <td>-0.366803</td>\n",
       "      <td>0.457475</td>\n",
       "      <td>-0.069204</td>\n",
       "      <td>0.575033</td>\n",
       "      <td>-0.250621</td>\n",
       "      <td>-0.752270</td>\n",
       "      <td>-0.881268</td>\n",
       "      <td>0.503821</td>\n",
       "      <td>-0.598729</td>\n",
       "      <td>0.229396</td>\n",
       "      <td>-0.630956</td>\n",
       "      <td>-0.794543</td>\n",
       "      <td>-0.642628</td>\n",
       "    </tr>\n",
       "    <tr>\n",
       "      <th>Alcohol</th>\n",
       "      <td>-0.366803</td>\n",
       "      <td>1.000000</td>\n",
       "      <td>0.096651</td>\n",
       "      <td>0.225343</td>\n",
       "      <td>-0.338434</td>\n",
       "      <td>0.421233</td>\n",
       "      <td>0.325599</td>\n",
       "      <td>0.302557</td>\n",
       "      <td>-0.175275</td>\n",
       "      <td>0.215463</td>\n",
       "      <td>0.540855</td>\n",
       "      <td>-0.010480</td>\n",
       "      <td>0.108512</td>\n",
       "      <td>0.652425</td>\n",
       "    </tr>\n",
       "    <tr>\n",
       "      <th>Malic acid</th>\n",
       "      <td>0.457475</td>\n",
       "      <td>0.096651</td>\n",
       "      <td>1.000000</td>\n",
       "      <td>0.183716</td>\n",
       "      <td>0.311024</td>\n",
       "      <td>0.030146</td>\n",
       "      <td>-0.369455</td>\n",
       "      <td>-0.460262</td>\n",
       "      <td>0.299642</td>\n",
       "      <td>-0.241993</td>\n",
       "      <td>0.304192</td>\n",
       "      <td>-0.582454</td>\n",
       "      <td>-0.399525</td>\n",
       "      <td>-0.182090</td>\n",
       "    </tr>\n",
       "    <tr>\n",
       "      <th>Ash</th>\n",
       "      <td>-0.069204</td>\n",
       "      <td>0.225343</td>\n",
       "      <td>0.183716</td>\n",
       "      <td>1.000000</td>\n",
       "      <td>0.320691</td>\n",
       "      <td>0.421118</td>\n",
       "      <td>0.106043</td>\n",
       "      <td>0.043875</td>\n",
       "      <td>0.090586</td>\n",
       "      <td>0.031043</td>\n",
       "      <td>0.210859</td>\n",
       "      <td>-0.043165</td>\n",
       "      <td>-0.032896</td>\n",
       "      <td>0.271846</td>\n",
       "    </tr>\n",
       "    <tr>\n",
       "      <th>Alcalinity of ash</th>\n",
       "      <td>0.575033</td>\n",
       "      <td>-0.338434</td>\n",
       "      <td>0.311024</td>\n",
       "      <td>0.320691</td>\n",
       "      <td>1.000000</td>\n",
       "      <td>-0.176902</td>\n",
       "      <td>-0.453056</td>\n",
       "      <td>-0.507433</td>\n",
       "      <td>0.340402</td>\n",
       "      <td>-0.308068</td>\n",
       "      <td>-0.031718</td>\n",
       "      <td>-0.318442</td>\n",
       "      <td>-0.375677</td>\n",
       "      <td>-0.472429</td>\n",
       "    </tr>\n",
       "    <tr>\n",
       "      <th>Magnesium</th>\n",
       "      <td>-0.250621</td>\n",
       "      <td>0.421233</td>\n",
       "      <td>0.030146</td>\n",
       "      <td>0.421118</td>\n",
       "      <td>-0.176902</td>\n",
       "      <td>1.000000</td>\n",
       "      <td>0.239446</td>\n",
       "      <td>0.199186</td>\n",
       "      <td>-0.235835</td>\n",
       "      <td>0.099609</td>\n",
       "      <td>0.346902</td>\n",
       "      <td>-0.021651</td>\n",
       "      <td>0.021406</td>\n",
       "      <td>0.449599</td>\n",
       "    </tr>\n",
       "    <tr>\n",
       "      <th>Total phenols</th>\n",
       "      <td>-0.752270</td>\n",
       "      <td>0.325599</td>\n",
       "      <td>-0.369455</td>\n",
       "      <td>0.106043</td>\n",
       "      <td>-0.453056</td>\n",
       "      <td>0.239446</td>\n",
       "      <td>1.000000</td>\n",
       "      <td>0.882622</td>\n",
       "      <td>-0.497526</td>\n",
       "      <td>0.642021</td>\n",
       "      <td>-0.065892</td>\n",
       "      <td>0.471543</td>\n",
       "      <td>0.706372</td>\n",
       "      <td>0.515427</td>\n",
       "    </tr>\n",
       "    <tr>\n",
       "      <th>Flavanoids</th>\n",
       "      <td>-0.881268</td>\n",
       "      <td>0.302557</td>\n",
       "      <td>-0.460262</td>\n",
       "      <td>0.043875</td>\n",
       "      <td>-0.507433</td>\n",
       "      <td>0.199186</td>\n",
       "      <td>0.882622</td>\n",
       "      <td>1.000000</td>\n",
       "      <td>-0.597872</td>\n",
       "      <td>0.737851</td>\n",
       "      <td>-0.171084</td>\n",
       "      <td>0.589664</td>\n",
       "      <td>0.784737</td>\n",
       "      <td>0.524336</td>\n",
       "    </tr>\n",
       "    <tr>\n",
       "      <th>Nonflavanoid phenols</th>\n",
       "      <td>0.503821</td>\n",
       "      <td>-0.175275</td>\n",
       "      <td>0.299642</td>\n",
       "      <td>0.090586</td>\n",
       "      <td>0.340402</td>\n",
       "      <td>-0.235835</td>\n",
       "      <td>-0.497526</td>\n",
       "      <td>-0.597872</td>\n",
       "      <td>1.000000</td>\n",
       "      <td>-0.430748</td>\n",
       "      <td>0.110328</td>\n",
       "      <td>-0.279525</td>\n",
       "      <td>-0.525896</td>\n",
       "      <td>-0.310505</td>\n",
       "    </tr>\n",
       "    <tr>\n",
       "      <th>Proanthocyanins</th>\n",
       "      <td>-0.598729</td>\n",
       "      <td>0.215463</td>\n",
       "      <td>-0.241993</td>\n",
       "      <td>0.031043</td>\n",
       "      <td>-0.308068</td>\n",
       "      <td>0.099609</td>\n",
       "      <td>0.642021</td>\n",
       "      <td>0.737851</td>\n",
       "      <td>-0.430748</td>\n",
       "      <td>1.000000</td>\n",
       "      <td>-0.041662</td>\n",
       "      <td>0.345698</td>\n",
       "      <td>0.585839</td>\n",
       "      <td>0.367174</td>\n",
       "    </tr>\n",
       "    <tr>\n",
       "      <th>Color intensity</th>\n",
       "      <td>0.229396</td>\n",
       "      <td>0.540855</td>\n",
       "      <td>0.304192</td>\n",
       "      <td>0.210859</td>\n",
       "      <td>-0.031718</td>\n",
       "      <td>0.346902</td>\n",
       "      <td>-0.065892</td>\n",
       "      <td>-0.171084</td>\n",
       "      <td>0.110328</td>\n",
       "      <td>-0.041662</td>\n",
       "      <td>1.000000</td>\n",
       "      <td>-0.484898</td>\n",
       "      <td>-0.425764</td>\n",
       "      <td>0.360802</td>\n",
       "    </tr>\n",
       "    <tr>\n",
       "      <th>Hue</th>\n",
       "      <td>-0.630956</td>\n",
       "      <td>-0.010480</td>\n",
       "      <td>-0.582454</td>\n",
       "      <td>-0.043165</td>\n",
       "      <td>-0.318442</td>\n",
       "      <td>-0.021651</td>\n",
       "      <td>0.471543</td>\n",
       "      <td>0.589664</td>\n",
       "      <td>-0.279525</td>\n",
       "      <td>0.345698</td>\n",
       "      <td>-0.484898</td>\n",
       "      <td>1.000000</td>\n",
       "      <td>0.570415</td>\n",
       "      <td>0.234691</td>\n",
       "    </tr>\n",
       "    <tr>\n",
       "      <th>OD280/OD315</th>\n",
       "      <td>-0.794543</td>\n",
       "      <td>0.108512</td>\n",
       "      <td>-0.399525</td>\n",
       "      <td>-0.032896</td>\n",
       "      <td>-0.375677</td>\n",
       "      <td>0.021406</td>\n",
       "      <td>0.706372</td>\n",
       "      <td>0.784737</td>\n",
       "      <td>-0.525896</td>\n",
       "      <td>0.585839</td>\n",
       "      <td>-0.425764</td>\n",
       "      <td>0.570415</td>\n",
       "      <td>1.000000</td>\n",
       "      <td>0.317024</td>\n",
       "    </tr>\n",
       "    <tr>\n",
       "      <th>Proline</th>\n",
       "      <td>-0.642628</td>\n",
       "      <td>0.652425</td>\n",
       "      <td>-0.182090</td>\n",
       "      <td>0.271846</td>\n",
       "      <td>-0.472429</td>\n",
       "      <td>0.449599</td>\n",
       "      <td>0.515427</td>\n",
       "      <td>0.524336</td>\n",
       "      <td>-0.310505</td>\n",
       "      <td>0.367174</td>\n",
       "      <td>0.360802</td>\n",
       "      <td>0.234691</td>\n",
       "      <td>0.317024</td>\n",
       "      <td>1.000000</td>\n",
       "    </tr>\n",
       "  </tbody>\n",
       "</table>\n",
       "</div>"
      ],
      "text/plain": [
       "                         Class   Alcohol  Malic acid       Ash  \\\n",
       "Class                 1.000000 -0.366803    0.457475 -0.069204   \n",
       "Alcohol              -0.366803  1.000000    0.096651  0.225343   \n",
       "Malic acid            0.457475  0.096651    1.000000  0.183716   \n",
       "Ash                  -0.069204  0.225343    0.183716  1.000000   \n",
       "Alcalinity of ash     0.575033 -0.338434    0.311024  0.320691   \n",
       "Magnesium            -0.250621  0.421233    0.030146  0.421118   \n",
       "Total phenols        -0.752270  0.325599   -0.369455  0.106043   \n",
       "Flavanoids           -0.881268  0.302557   -0.460262  0.043875   \n",
       "Nonflavanoid phenols  0.503821 -0.175275    0.299642  0.090586   \n",
       "Proanthocyanins      -0.598729  0.215463   -0.241993  0.031043   \n",
       "Color intensity       0.229396  0.540855    0.304192  0.210859   \n",
       "Hue                  -0.630956 -0.010480   -0.582454 -0.043165   \n",
       "OD280/OD315          -0.794543  0.108512   -0.399525 -0.032896   \n",
       "Proline              -0.642628  0.652425   -0.182090  0.271846   \n",
       "\n",
       "                      Alcalinity of ash  Magnesium  Total phenols  Flavanoids  \\\n",
       "Class                          0.575033  -0.250621      -0.752270   -0.881268   \n",
       "Alcohol                       -0.338434   0.421233       0.325599    0.302557   \n",
       "Malic acid                     0.311024   0.030146      -0.369455   -0.460262   \n",
       "Ash                            0.320691   0.421118       0.106043    0.043875   \n",
       "Alcalinity of ash              1.000000  -0.176902      -0.453056   -0.507433   \n",
       "Magnesium                     -0.176902   1.000000       0.239446    0.199186   \n",
       "Total phenols                 -0.453056   0.239446       1.000000    0.882622   \n",
       "Flavanoids                    -0.507433   0.199186       0.882622    1.000000   \n",
       "Nonflavanoid phenols           0.340402  -0.235835      -0.497526   -0.597872   \n",
       "Proanthocyanins               -0.308068   0.099609       0.642021    0.737851   \n",
       "Color intensity               -0.031718   0.346902      -0.065892   -0.171084   \n",
       "Hue                           -0.318442  -0.021651       0.471543    0.589664   \n",
       "OD280/OD315                   -0.375677   0.021406       0.706372    0.784737   \n",
       "Proline                       -0.472429   0.449599       0.515427    0.524336   \n",
       "\n",
       "                      Nonflavanoid phenols  Proanthocyanins  Color intensity  \\\n",
       "Class                             0.503821        -0.598729         0.229396   \n",
       "Alcohol                          -0.175275         0.215463         0.540855   \n",
       "Malic acid                        0.299642        -0.241993         0.304192   \n",
       "Ash                               0.090586         0.031043         0.210859   \n",
       "Alcalinity of ash                 0.340402        -0.308068        -0.031718   \n",
       "Magnesium                        -0.235835         0.099609         0.346902   \n",
       "Total phenols                    -0.497526         0.642021        -0.065892   \n",
       "Flavanoids                       -0.597872         0.737851        -0.171084   \n",
       "Nonflavanoid phenols              1.000000        -0.430748         0.110328   \n",
       "Proanthocyanins                  -0.430748         1.000000        -0.041662   \n",
       "Color intensity                   0.110328        -0.041662         1.000000   \n",
       "Hue                              -0.279525         0.345698        -0.484898   \n",
       "OD280/OD315                      -0.525896         0.585839        -0.425764   \n",
       "Proline                          -0.310505         0.367174         0.360802   \n",
       "\n",
       "                           Hue  OD280/OD315   Proline  \n",
       "Class                -0.630956    -0.794543 -0.642628  \n",
       "Alcohol              -0.010480     0.108512  0.652425  \n",
       "Malic acid           -0.582454    -0.399525 -0.182090  \n",
       "Ash                  -0.043165    -0.032896  0.271846  \n",
       "Alcalinity of ash    -0.318442    -0.375677 -0.472429  \n",
       "Magnesium            -0.021651     0.021406  0.449599  \n",
       "Total phenols         0.471543     0.706372  0.515427  \n",
       "Flavanoids            0.589664     0.784737  0.524336  \n",
       "Nonflavanoid phenols -0.279525    -0.525896 -0.310505  \n",
       "Proanthocyanins       0.345698     0.585839  0.367174  \n",
       "Color intensity      -0.484898    -0.425764  0.360802  \n",
       "Hue                   1.000000     0.570415  0.234691  \n",
       "OD280/OD315           0.570415     1.000000  0.317024  \n",
       "Proline               0.234691     0.317024  1.000000  "
      ]
     },
     "execution_count": 14,
     "metadata": {},
     "output_type": "execute_result"
    }
   ],
   "source": [
    "#checking correlation\n",
    "wd.corr()"
   ]
  },
  {
   "cell_type": "code",
   "execution_count": 15,
   "metadata": {},
   "outputs": [
    {
     "data": {
      "text/plain": [
       "<matplotlib.axes._subplots.AxesSubplot at 0xc77991de50>"
      ]
     },
     "execution_count": 15,
     "metadata": {},
     "output_type": "execute_result"
    },
    {
     "data": {
      "image/png": "[encoded data removed]",
      "text/plain": [
       "<Figure size 1080x1080 with 2 Axes>"
      ]
     },
     "metadata": {
      "needs_background": "light"
     },
     "output_type": "display_data"
    }
   ],
   "source": [
    "#using heatmap visualising the correaltion\n",
    "plt.figure(figsize=(15,15))\n",
    "import seaborn as sns\n",
    "corr=wd.corr()\n",
    "sns.heatmap(corr,annot=True)"
   ]
  },
  {
   "cell_type": "code",
   "execution_count": 16,
   "metadata": {},
   "outputs": [],
   "source": [
    "#droping of Ash coulmn beacuse of low corellation with response\n",
    "wd.drop(['Ash'],axis=1,inplace=True)"
   ]
  },
  {
   "cell_type": "code",
   "execution_count": 17,
   "metadata": {},
   "outputs": [
    {
     "data": {
      "text/html": [
       "<div>\n",
       "<style scoped>\n",
       "    .dataframe tbody tr th:only-of-type {\n",
       "        vertical-align: middle;\n",
       "    }\n",
       "\n",
       "    .dataframe tbody tr th {\n",
       "        vertical-align: top;\n",
       "    }\n",
       "\n",
       "    .dataframe thead th {\n",
       "        text-align: right;\n",
       "    }\n",
       "</style>\n",
       "<table border=\"1\" class=\"dataframe\">\n",
       "  <thead>\n",
       "    <tr style=\"text-align: right;\">\n",
       "      <th></th>\n",
       "      <th>Class</th>\n",
       "      <th>Alcohol</th>\n",
       "      <th>Malic acid</th>\n",
       "      <th>Alcalinity of ash</th>\n",
       "      <th>Magnesium</th>\n",
       "      <th>Total phenols</th>\n",
       "      <th>Flavanoids</th>\n",
       "      <th>Nonflavanoid phenols</th>\n",
       "      <th>Proanthocyanins</th>\n",
       "      <th>Color intensity</th>\n",
       "      <th>Hue</th>\n",
       "      <th>OD280/OD315</th>\n",
       "      <th>Proline</th>\n",
       "    </tr>\n",
       "  </thead>\n",
       "  <tbody>\n",
       "    <tr>\n",
       "      <th>0</th>\n",
       "      <td>0</td>\n",
       "      <td>14.23</td>\n",
       "      <td>1.71</td>\n",
       "      <td>15.6</td>\n",
       "      <td>127</td>\n",
       "      <td>2.80</td>\n",
       "      <td>3.06</td>\n",
       "      <td>0.28</td>\n",
       "      <td>2.29</td>\n",
       "      <td>5.64</td>\n",
       "      <td>1.04</td>\n",
       "      <td>3.92</td>\n",
       "      <td>1065</td>\n",
       "    </tr>\n",
       "    <tr>\n",
       "      <th>1</th>\n",
       "      <td>0</td>\n",
       "      <td>13.20</td>\n",
       "      <td>1.78</td>\n",
       "      <td>11.2</td>\n",
       "      <td>100</td>\n",
       "      <td>2.65</td>\n",
       "      <td>2.76</td>\n",
       "      <td>0.26</td>\n",
       "      <td>1.28</td>\n",
       "      <td>4.38</td>\n",
       "      <td>1.05</td>\n",
       "      <td>3.40</td>\n",
       "      <td>1050</td>\n",
       "    </tr>\n",
       "    <tr>\n",
       "      <th>2</th>\n",
       "      <td>0</td>\n",
       "      <td>13.16</td>\n",
       "      <td>2.36</td>\n",
       "      <td>18.6</td>\n",
       "      <td>101</td>\n",
       "      <td>2.80</td>\n",
       "      <td>3.24</td>\n",
       "      <td>0.30</td>\n",
       "      <td>2.81</td>\n",
       "      <td>5.68</td>\n",
       "      <td>1.03</td>\n",
       "      <td>3.17</td>\n",
       "      <td>1185</td>\n",
       "    </tr>\n",
       "    <tr>\n",
       "      <th>3</th>\n",
       "      <td>0</td>\n",
       "      <td>14.37</td>\n",
       "      <td>1.95</td>\n",
       "      <td>16.8</td>\n",
       "      <td>113</td>\n",
       "      <td>3.85</td>\n",
       "      <td>3.49</td>\n",
       "      <td>0.24</td>\n",
       "      <td>2.18</td>\n",
       "      <td>7.80</td>\n",
       "      <td>0.86</td>\n",
       "      <td>3.45</td>\n",
       "      <td>1480</td>\n",
       "    </tr>\n",
       "    <tr>\n",
       "      <th>4</th>\n",
       "      <td>0</td>\n",
       "      <td>13.24</td>\n",
       "      <td>2.59</td>\n",
       "      <td>21.0</td>\n",
       "      <td>118</td>\n",
       "      <td>2.80</td>\n",
       "      <td>2.69</td>\n",
       "      <td>0.39</td>\n",
       "      <td>1.82</td>\n",
       "      <td>4.32</td>\n",
       "      <td>1.04</td>\n",
       "      <td>2.93</td>\n",
       "      <td>735</td>\n",
       "    </tr>\n",
       "  </tbody>\n",
       "</table>\n",
       "</div>"
      ],
      "text/plain": [
       "   Class  Alcohol  Malic acid  Alcalinity of ash  Magnesium  Total phenols  \\\n",
       "0      0    14.23        1.71               15.6        127           2.80   \n",
       "1      0    13.20        1.78               11.2        100           2.65   \n",
       "2      0    13.16        2.36               18.6        101           2.80   \n",
       "3      0    14.37        1.95               16.8        113           3.85   \n",
       "4      0    13.24        2.59               21.0        118           2.80   \n",
       "\n",
       "   Flavanoids  Nonflavanoid phenols  Proanthocyanins  Color intensity   Hue  \\\n",
       "0        3.06                  0.28             2.29             5.64  1.04   \n",
       "1        2.76                  0.26             1.28             4.38  1.05   \n",
       "2        3.24                  0.30             2.81             5.68  1.03   \n",
       "3        3.49                  0.24             2.18             7.80  0.86   \n",
       "4        2.69                  0.39             1.82             4.32  1.04   \n",
       "\n",
       "   OD280/OD315  Proline  \n",
       "0         3.92     1065  \n",
       "1         3.40     1050  \n",
       "2         3.17     1185  \n",
       "3         3.45     1480  \n",
       "4         2.93      735  "
      ]
     },
     "execution_count": 17,
     "metadata": {},
     "output_type": "execute_result"
    }
   ],
   "source": [
    "wd.head()"
   ]
  },
  {
   "cell_type": "code",
   "execution_count": 18,
   "metadata": {},
   "outputs": [],
   "source": [
    "#seperating X and y\n",
    "x=wd.iloc[:,1:].values\n",
    "y=wd.iloc[:,0].values"
   ]
  },
  {
   "cell_type": "code",
   "execution_count": 19,
   "metadata": {},
   "outputs": [],
   "source": [
    "#splitting in training and testing values\n",
    "from sklearn.model_selection import train_test_split"
   ]
  },
  {
   "cell_type": "code",
   "execution_count": 20,
   "metadata": {},
   "outputs": [],
   "source": [
    "x_train,x_test,y_train,y_test=train_test_split(x,y,test_size=0.2,random_state=0)"
   ]
  },
  {
   "cell_type": "markdown",
   "metadata": {},
   "source": [
    "Model Building"
   ]
  },
  {
   "cell_type": "code",
   "execution_count": 21,
   "metadata": {},
   "outputs": [],
   "source": [
    "from sklearn.linear_model import LogisticRegression"
   ]
  },
  {
   "cell_type": "code",
   "execution_count": 22,
   "metadata": {},
   "outputs": [],
   "source": [
    "model=LogisticRegression(solver='newton-cg',multi_class='ovr')"
   ]
  },
  {
   "cell_type": "code",
   "execution_count": 23,
   "metadata": {},
   "outputs": [
    {
     "data": {
      "text/plain": [
       "LogisticRegression(multi_class='ovr', solver='newton-cg')"
      ]
     },
     "execution_count": 23,
     "metadata": {},
     "output_type": "execute_result"
    }
   ],
   "source": [
    "model.fit(x_train,y_train)"
   ]
  },
  {
   "cell_type": "code",
   "execution_count": 24,
   "metadata": {},
   "outputs": [],
   "source": [
    "#predictions\n",
    "y_pred=model.predict(x_test)"
   ]
  },
  {
   "cell_type": "code",
   "execution_count": 25,
   "metadata": {},
   "outputs": [],
   "source": [
    "dict1={\n",
    "    'Y_pred':y_pred,\n",
    "    'Y_test':y_test\n",
    "}\n",
    "eval_wd=pd.DataFrame(dict1)"
   ]
  },
  {
   "cell_type": "code",
   "execution_count": 26,
   "metadata": {},
   "outputs": [
    {
     "data": {
      "text/html": [
       "<div>\n",
       "<style scoped>\n",
       "    .dataframe tbody tr th:only-of-type {\n",
       "        vertical-align: middle;\n",
       "    }\n",
       "\n",
       "    .dataframe tbody tr th {\n",
       "        vertical-align: top;\n",
       "    }\n",
       "\n",
       "    .dataframe thead th {\n",
       "        text-align: right;\n",
       "    }\n",
       "</style>\n",
       "<table border=\"1\" class=\"dataframe\">\n",
       "  <thead>\n",
       "    <tr style=\"text-align: right;\">\n",
       "      <th></th>\n",
       "      <th>Y_pred</th>\n",
       "      <th>Y_test</th>\n",
       "    </tr>\n",
       "  </thead>\n",
       "  <tbody>\n",
       "    <tr>\n",
       "      <th>0</th>\n",
       "      <td>1</td>\n",
       "      <td>1</td>\n",
       "    </tr>\n",
       "    <tr>\n",
       "      <th>1</th>\n",
       "      <td>1</td>\n",
       "      <td>1</td>\n",
       "    </tr>\n",
       "    <tr>\n",
       "      <th>2</th>\n",
       "      <td>2</td>\n",
       "      <td>2</td>\n",
       "    </tr>\n",
       "    <tr>\n",
       "      <th>3</th>\n",
       "      <td>0</td>\n",
       "      <td>0</td>\n",
       "    </tr>\n",
       "    <tr>\n",
       "      <th>4</th>\n",
       "      <td>0</td>\n",
       "      <td>0</td>\n",
       "    </tr>\n",
       "    <tr>\n",
       "      <th>5</th>\n",
       "      <td>1</td>\n",
       "      <td>1</td>\n",
       "    </tr>\n",
       "    <tr>\n",
       "      <th>6</th>\n",
       "      <td>2</td>\n",
       "      <td>2</td>\n",
       "    </tr>\n",
       "    <tr>\n",
       "      <th>7</th>\n",
       "      <td>1</td>\n",
       "      <td>1</td>\n",
       "    </tr>\n",
       "    <tr>\n",
       "      <th>8</th>\n",
       "      <td>1</td>\n",
       "      <td>1</td>\n",
       "    </tr>\n",
       "    <tr>\n",
       "      <th>9</th>\n",
       "      <td>1</td>\n",
       "      <td>1</td>\n",
       "    </tr>\n",
       "    <tr>\n",
       "      <th>10</th>\n",
       "      <td>2</td>\n",
       "      <td>2</td>\n",
       "    </tr>\n",
       "    <tr>\n",
       "      <th>11</th>\n",
       "      <td>1</td>\n",
       "      <td>1</td>\n",
       "    </tr>\n",
       "    <tr>\n",
       "      <th>12</th>\n",
       "      <td>0</td>\n",
       "      <td>0</td>\n",
       "    </tr>\n",
       "    <tr>\n",
       "      <th>13</th>\n",
       "      <td>2</td>\n",
       "      <td>2</td>\n",
       "    </tr>\n",
       "    <tr>\n",
       "      <th>14</th>\n",
       "      <td>2</td>\n",
       "      <td>2</td>\n",
       "    </tr>\n",
       "    <tr>\n",
       "      <th>15</th>\n",
       "      <td>1</td>\n",
       "      <td>1</td>\n",
       "    </tr>\n",
       "    <tr>\n",
       "      <th>16</th>\n",
       "      <td>0</td>\n",
       "      <td>0</td>\n",
       "    </tr>\n",
       "    <tr>\n",
       "      <th>17</th>\n",
       "      <td>1</td>\n",
       "      <td>1</td>\n",
       "    </tr>\n",
       "    <tr>\n",
       "      <th>18</th>\n",
       "      <td>2</td>\n",
       "      <td>2</td>\n",
       "    </tr>\n",
       "    <tr>\n",
       "      <th>19</th>\n",
       "      <td>1</td>\n",
       "      <td>1</td>\n",
       "    </tr>\n",
       "    <tr>\n",
       "      <th>20</th>\n",
       "      <td>0</td>\n",
       "      <td>0</td>\n",
       "    </tr>\n",
       "    <tr>\n",
       "      <th>21</th>\n",
       "      <td>0</td>\n",
       "      <td>0</td>\n",
       "    </tr>\n",
       "    <tr>\n",
       "      <th>22</th>\n",
       "      <td>1</td>\n",
       "      <td>1</td>\n",
       "    </tr>\n",
       "    <tr>\n",
       "      <th>23</th>\n",
       "      <td>0</td>\n",
       "      <td>0</td>\n",
       "    </tr>\n",
       "    <tr>\n",
       "      <th>24</th>\n",
       "      <td>0</td>\n",
       "      <td>0</td>\n",
       "    </tr>\n",
       "    <tr>\n",
       "      <th>25</th>\n",
       "      <td>0</td>\n",
       "      <td>0</td>\n",
       "    </tr>\n",
       "    <tr>\n",
       "      <th>26</th>\n",
       "      <td>2</td>\n",
       "      <td>2</td>\n",
       "    </tr>\n",
       "    <tr>\n",
       "      <th>27</th>\n",
       "      <td>1</td>\n",
       "      <td>1</td>\n",
       "    </tr>\n",
       "    <tr>\n",
       "      <th>28</th>\n",
       "      <td>1</td>\n",
       "      <td>1</td>\n",
       "    </tr>\n",
       "    <tr>\n",
       "      <th>29</th>\n",
       "      <td>1</td>\n",
       "      <td>2</td>\n",
       "    </tr>\n",
       "    <tr>\n",
       "      <th>30</th>\n",
       "      <td>2</td>\n",
       "      <td>2</td>\n",
       "    </tr>\n",
       "    <tr>\n",
       "      <th>31</th>\n",
       "      <td>0</td>\n",
       "      <td>0</td>\n",
       "    </tr>\n",
       "    <tr>\n",
       "      <th>32</th>\n",
       "      <td>0</td>\n",
       "      <td>0</td>\n",
       "    </tr>\n",
       "  </tbody>\n",
       "</table>\n",
       "</div>"
      ],
      "text/plain": [
       "    Y_pred  Y_test\n",
       "0        1       1\n",
       "1        1       1\n",
       "2        2       2\n",
       "3        0       0\n",
       "4        0       0\n",
       "5        1       1\n",
       "6        2       2\n",
       "7        1       1\n",
       "8        1       1\n",
       "9        1       1\n",
       "10       2       2\n",
       "11       1       1\n",
       "12       0       0\n",
       "13       2       2\n",
       "14       2       2\n",
       "15       1       1\n",
       "16       0       0\n",
       "17       1       1\n",
       "18       2       2\n",
       "19       1       1\n",
       "20       0       0\n",
       "21       0       0\n",
       "22       1       1\n",
       "23       0       0\n",
       "24       0       0\n",
       "25       0       0\n",
       "26       2       2\n",
       "27       1       1\n",
       "28       1       1\n",
       "29       1       2\n",
       "30       2       2\n",
       "31       0       0\n",
       "32       0       0"
      ]
     },
     "execution_count": 26,
     "metadata": {},
     "output_type": "execute_result"
    }
   ],
   "source": [
    "eval_wd"
   ]
  },
  {
   "cell_type": "markdown",
   "metadata": {},
   "source": [
    "Model Evaluation"
   ]
  },
  {
   "cell_type": "code",
   "execution_count": 27,
   "metadata": {},
   "outputs": [],
   "source": [
    "from sklearn.metrics import accuracy_score,confusion_matrix,r2_score"
   ]
  },
  {
   "cell_type": "code",
   "execution_count": 28,
   "metadata": {},
   "outputs": [
    {
     "data": {
      "text/plain": [
       "array([[11,  0,  0],\n",
       "       [ 0, 13,  0],\n",
       "       [ 0,  1,  8]], dtype=int64)"
      ]
     },
     "execution_count": 28,
     "metadata": {},
     "output_type": "execute_result"
    }
   ],
   "source": [
    "cfm=confusion_matrix(y_test,y_pred)\n",
    "cfm"
   ]
  },
  {
   "cell_type": "code",
   "execution_count": 29,
   "metadata": {},
   "outputs": [
    {
     "data": {
      "text/plain": [
       "0.9696969696969697"
      ]
     },
     "execution_count": 29,
     "metadata": {},
     "output_type": "execute_result"
    }
   ],
   "source": [
    "accuracy_score(y_test,y_pred)"
   ]
  },
  {
   "cell_type": "code",
   "execution_count": 30,
   "metadata": {},
   "outputs": [
    {
     "data": {
      "text/plain": [
       "0.9496951219512195"
      ]
     },
     "execution_count": 30,
     "metadata": {},
     "output_type": "execute_result"
    }
   ],
   "source": [
    "r2_score(y_test,y_pred)"
   ]
  },
  {
   "cell_type": "code",
   "execution_count": null,
   "metadata": {},
   "outputs": [],
   "source": []
  }
 ],
 "metadata": {
  "kernelspec": {
   "display_name": "Python 3",
   "language": "python",
   "name": "python3"
  },
  "language_info": {
   "codemirror_mode": {
    "name": "ipython",
    "version": 3
   },
   "file_extension": ".py",
   "mimetype": "text/x-python",
   "name": "python",
   "nbconvert_exporter": "python",
   "pygments_lexer": "ipython3",
   "version": "3.8.3"
  }
 },
 "nbformat": 4,
 "nbformat_minor": 2
}
